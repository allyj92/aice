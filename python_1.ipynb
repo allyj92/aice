{
 "cells": [
  {
   "cell_type": "markdown",
   "id": "f0b7cc70-eb5e-4f03-a501-24345e6ed096",
   "metadata": {},
   "source": [
    "print()와 주석"
   ]
  },
  {
   "cell_type": "code",
   "execution_count": 1,
   "id": "4529cd1f-a4a9-48fc-9b0b-f465c7fad02f",
   "metadata": {},
   "outputs": [
    {
     "name": "stdout",
     "output_type": "stream",
     "text": [
      "여기에 출력하고 싶은 내용\n"
     ]
    }
   ],
   "source": [
    "# pring()는 원하는 내용을 화면에 출력합니다.\n",
    "print(\"여기에 출력하고 싶은 내용\")"
   ]
  },
  {
   "cell_type": "markdown",
   "id": "745521f6-a490-48cc-a9c8-6cc97a598a4d",
   "metadata": {},
   "source": [
    "- 주석 단축키 : 주석 내용을 블록잡고 ctrl + /"
   ]
  },
  {
   "cell_type": "code",
   "execution_count": 2,
   "id": "0011970f-6aae-45b5-a73a-a36bafcb1181",
   "metadata": {},
   "outputs": [],
   "source": [
    "\n",
    "# 이 줄은 주석입니다. \n",
    "# 이 줄은 주석입니다. \n",
    "# 이 줄은 주석입니다. \n",
    "# 이 줄은 주석입니다. \n",
    "#     이 줄은 주석입니다. \n",
    "#     이 줄은 주석입니다. \n",
    "#     이 줄은 주석입니다. "
   ]
  },
  {
   "cell_type": "markdown",
   "id": "454fa1a8-ab56-428d-96bf-f1dc3385dc53",
   "metadata": {},
   "source": [
    "- 띄어쓰기를 맘대로 하지 말자!"
   ]
  },
  {
   "cell_type": "code",
   "execution_count": 3,
   "id": "46c88471-db56-4d19-b100-2994a6920414",
   "metadata": {},
   "outputs": [
    {
     "ename": "IndentationError",
     "evalue": "unexpected indent (611560065.py, line 2)",
     "output_type": "error",
     "traceback": [
      "\u001b[1;36m  Cell \u001b[1;32mIn[3], line 2\u001b[1;36m\u001b[0m\n\u001b[1;33m    print(\"bbbb\")\u001b[0m\n\u001b[1;37m    ^\u001b[0m\n\u001b[1;31mIndentationError\u001b[0m\u001b[1;31m:\u001b[0m unexpected indent\n"
     ]
    }
   ],
   "source": [
    "print(\"aaaa\")\n",
    "    print(\"bbbb\")"
   ]
  },
  {
   "cell_type": "markdown",
   "id": "83c21b4e-7587-42ae-8aba-3f00aba80645",
   "metadata": {},
   "source": [
    "# 에러 메세지\n",
    "### 문법에러 syntax error"
   ]
  },
  {
   "cell_type": "raw",
   "id": "f9bf272b-4472-4de7-8da5-80c0bcc48b86",
   "metadata": {},
   "source": [
    "print(\"Hello World!)"
   ]
  },
  {
   "cell_type": "code",
   "execution_count": null,
   "id": "ac7b35c4-1d0c-42cc-adda-970218b63100",
   "metadata": {},
   "outputs": [],
   "source": [
    "print(\"Hello World!)"
   ]
  },
  {
   "cell_type": "markdown",
   "id": "b2c04c07-f0ac-46b8-a66f-92bc17466210",
   "metadata": {},
   "source": [
    "### ex1"
   ]
  },
  {
   "cell_type": "code",
   "execution_count": null,
   "id": "8cacea8c-f4c9-4034-ae56-74fcff6018c6",
   "metadata": {},
   "outputs": [],
   "source": [
    "print(\"오늘 날짜는 2024-10-26입니다.\")"
   ]
  },
  {
   "cell_type": "markdown",
   "id": "c6847736-7caf-4ce1-b09e-6b3c320a4e9b",
   "metadata": {},
   "source": [
    "## ex2"
   ]
  },
  {
   "cell_type": "code",
   "execution_count": null,
   "id": "5dbb4f3a-50fe-40da-8d39-ad893334c109",
   "metadata": {},
   "outputs": [],
   "source": [
    "print(\"오늘 날짜는 2024-10-26입니다\")\n",
    "print(\"오늘 날짜는 2024-10-27입니다\")"
   ]
  },
  {
   "cell_type": "code",
   "execution_count": null,
   "id": "d3981fcc-a5db-4801-a8a0-64da8ca47b83",
   "metadata": {},
   "outputs": [],
   "source": []
  },
  {
   "cell_type": "code",
   "execution_count": null,
   "id": "28f42723-e479-4d3f-a292-536c0bd1f923",
   "metadata": {},
   "outputs": [],
   "source": [
    "print(1)\n",
    "print(2)\n",
    "print(3)\n",
    "print(4)\n",
    "print(5)\n",
    "print(6)\n",
    "print(7)"
   ]
  },
  {
   "cell_type": "code",
   "execution_count": null,
   "id": "9dd6a322-167d-4272-a58a-e5eec8dc4c49",
   "metadata": {},
   "outputs": [],
   "source": [
    "s = \"very 'easy' python\"\n",
    "s"
   ]
  },
  {
   "cell_type": "code",
   "execution_count": null,
   "id": "23bd96cf-6eb8-472a-81d6-4168acb05550",
   "metadata": {},
   "outputs": [],
   "source": [
    "#ex-07\n",
    "lang1 = \"Python\"\n",
    "lang2 = \"C++\"\n",
    "lang3 = \"Java\"\n",
    "lang4 = \"Pascal\"\n",
    "\n",
    "dev1 = \"Guido van Rossum\"\n",
    "dev2 = \"Bjarne Stroutrup\"\n",
    "dev3 = \"Jame Gosling\"\n",
    "\n",
    "sep =\" : \"\n",
    "\n",
    "print(\"#\" * 25)\n",
    "print(lang1+sep+dev1)\n",
    "print(lang2+sep+dev2)\n",
    "print(lang3+sep+dev3)\n",
    "print(\"#\" * 25)"
   ]
  },
  {
   "cell_type": "code",
   "execution_count": null,
   "id": "555257d4-230e-4685-8f7e-91225a8d7863",
   "metadata": {},
   "outputs": [],
   "source": [
    "print(\"#\" * 25)\n",
    "print(f\"{lang3:>7}{sep}{dev3}\")\n",
    "print(\"#\" * 25)"
   ]
  },
  {
   "cell_type": "code",
   "execution_count": null,
   "id": "646287a0-594e-49b0-87cc-277e1a50099f",
   "metadata": {},
   "outputs": [],
   "source": [
    "user_name = input()\n",
    "favorite_color = input()"
   ]
  },
  {
   "cell_type": "code",
   "execution_count": null,
   "id": "0b92b9bc-45d8-46b0-98fd-39d58e2ecbbe",
   "metadata": {},
   "outputs": [],
   "source": [
    "user_input = input(\"입력해주세요: \")"
   ]
  },
  {
   "cell_type": "code",
   "execution_count": null,
   "id": "1a12d506-5e7b-41bd-8594-c7e47701875b",
   "metadata": {},
   "outputs": [],
   "source": [
    "print(user_name + \"님이 가장 좋아하는 색깔은 \" + favorite_color + \"입니다.\")"
   ]
  },
  {
   "cell_type": "code",
   "execution_count": null,
   "id": "c991eae0-5a2e-4c98-b16c-5126ef9658b9",
   "metadata": {},
   "outputs": [],
   "source": [
    "print = \"something\"  # This will cause an issue\n",
    "\n",
    "# Reset it\n",
    "del print "
   ]
  },
  {
   "cell_type": "code",
   "execution_count": null,
   "id": "57c661d8-dd79-4ded-89a7-b51912451dcc",
   "metadata": {},
   "outputs": [],
   "source": [
    "num1 = int(input())\n",
    "num2 = int(input())"
   ]
  },
  {
   "cell_type": "code",
   "execution_count": null,
   "id": "6b810524-8adb-400b-95b6-506748b9edf9",
   "metadata": {},
   "outputs": [],
   "source": [
    "del print"
   ]
  },
  {
   "cell_type": "code",
   "execution_count": null,
   "id": "e6e26189-c5ce-48ca-a796-0b964ad9b9c7",
   "metadata": {},
   "outputs": [],
   "source": [
    "print(f\"+ : {num1} + {num2} = {num1 + num2}\")\n",
    "print(f\"* : {num1} * {num2} = {num1 * num2}\")\n",
    "print(f\"/ : {num1} / {num2} = {num1 / num2}\")\n",
    "print(f\"- : {num1} - {num2} = {num1 - num2}\")"
   ]
  },
  {
   "cell_type": "code",
   "execution_count": null,
   "id": "124bc51c-27f7-497f-86f2-ca1170835d7a",
   "metadata": {},
   "outputs": [],
   "source": []
  },
  {
   "cell_type": "code",
   "execution_count": null,
   "id": "c13c01db-f06c-4009-b13f-68fabf2bfd59",
   "metadata": {},
   "outputs": [],
   "source": [
    "a= int(98.3)"
   ]
  },
  {
   "cell_type": "markdown",
   "id": "4c7fb636-283f-4191-b854-3f8df8e7c467",
   "metadata": {},
   "source": [
    "a"
   ]
  },
  {
   "cell_type": "code",
   "execution_count": null,
   "id": "619ac487-9e6d-4688-84ee-431e5a9bb20d",
   "metadata": {},
   "outputs": [],
   "source": [
    "1+1.0"
   ]
  },
  {
   "cell_type": "markdown",
   "id": "33be9f7e-7a21-45c5-a6c7-0f035e148fe1",
   "metadata": {},
   "source": [
    "BMI = WEIGHT / HEIGHT*HEIGHT"
   ]
  },
  {
   "cell_type": "code",
   "execution_count": null,
   "id": "f1e19967-dfe9-4df6-8008-a40ce471af86",
   "metadata": {},
   "outputs": [],
   "source": [
    "height = float(input(\"키를 입력해주세요: \"))\n",
    "weight = float(input(\"몸무게를 입력해주세요: \"))\n",
    "\n",
    "bmi = weight / (height**2)\n",
    "\n",
    "bmi"
   ]
  },
  {
   "cell_type": "code",
   "execution_count": null,
   "id": "e1f24abb-214b-4377-b37d-7673e779ce91",
   "metadata": {},
   "outputs": [],
   "source": [
    "name = input(\"너의 이름: \")\n",
    "kor = int(input(\"국어 점수: \"))\n",
    "eng = int(input(\"수학 점수: \"))\n",
    "sci = int(input(\"과학 점수: \"))\n",
    "\n",
    "total = kor+eng+sci\n",
    "\n",
    "print(f\"{name}의 총점은 {total}이고 평균은 {total/3}입니다.\")"
   ]
  },
  {
   "cell_type": "code",
   "execution_count": null,
   "id": "03b870ff-3078-484e-ab40-72368987cf8f",
   "metadata": {},
   "outputs": [],
   "source": [
    "\n",
    "composer1 = 'Beethoven'\n",
    "composer2 = 'Bach'\n",
    "\n",
    "\n",
    "print(f\"I love {composer1}'s Symphony No.3 'Eroica'.\")\n",
    "print(f\"I love {composer2}'s Goldberg Variation.\")\n",
    "#print(f\"I love {composer3}'s Die Zauberflöte\")"
   ]
  },
  {
   "cell_type": "code",
   "execution_count": null,
   "id": "ee6f2ba3-0e6e-47b2-87c1-3dc78ac5779d",
   "metadata": {},
   "outputs": [],
   "source": [
    "radi = int(input(\"원의 반지름을 입력하세요: \"))\n",
    "pi = 3.14       \n",
    "\n",
    "!rud351153"
   ]
  },
  {
   "cell_type": "code",
   "execution_count": null,
   "id": "3cedcaa3-52d6-43b4-89f2-7ef3f2a6386f",
   "metadata": {},
   "outputs": [],
   "source": [
    "e = 2.718\n",
    "root_2pi = 2.506\n",
    "sigma = 0.5\n",
    "mu=1\n",
    "x=0.1"
   ]
  },
  {
   "cell_type": "code",
   "execution_count": null,
   "id": "1dd505b6-b6a1-4ff2-bd73-8a5ba8fd82ea",
   "metadata": {},
   "outputs": [],
   "source": [
    "(((1/(root_2pi*sigma)))*e)**(-((x-mu))**2/(2*(sigma**2)))"
   ]
  },
  {
   "cell_type": "code",
   "execution_count": null,
   "id": "5662b895-097c-460a-9c92-9422a8a8eae5",
   "metadata": {},
   "outputs": [],
   "source": [
    "1/(sigma*root_2pi) * e**(-((x-mu)**2) / (2*sigma**2))"
   ]
  },
  {
   "cell_type": "markdown",
   "id": "c6033c3e-56f7-4cb4-9a12-2b480d20feda",
   "metadata": {},
   "source": [
    "## bool"
   ]
  },
  {
   "cell_type": "code",
   "execution_count": null,
   "id": "0e4e7676-06ca-47fe-bc8a-71342e334e67",
   "metadata": {},
   "outputs": [],
   "source": [
    "True, False, type(True), type(False)"
   ]
  },
  {
   "cell_type": "code",
   "execution_count": null,
   "id": "d7c6bd78-f45d-48b1-b83c-cca2bc896804",
   "metadata": {},
   "outputs": [],
   "source": [
    "a=1\n",
    "b=0\n",
    "\n",
    "a==b, a >=b, a > b, a < b, a!=b"
   ]
  },
  {
   "cell_type": "code",
   "execution_count": null,
   "id": "6c660c47-bef1-4d35-b8aa-3e96476ce904",
   "metadata": {},
   "outputs": [],
   "source": [
    "int(True), int(False)"
   ]
  },
  {
   "cell_type": "code",
   "execution_count": null,
   "id": "1aa7d7b7-0095-47f3-b847-4a6067b615cd",
   "metadata": {},
   "outputs": [],
   "source": [
    "bool(\"abc\"), bool(\"\")"
   ]
  },
  {
   "cell_type": "markdown",
   "id": "d327858f-7db3-4703-811d-72180a5be3c2",
   "metadata": {},
   "source": [
    "## 논리 연산자 and, or, not"
   ]
  },
  {
   "cell_type": "code",
   "execution_count": null,
   "id": "94c6d17e-6a32-4ac9-8592-4cc5545513a5",
   "metadata": {},
   "outputs": [],
   "source": [
    "True and True, True and False, False and True, False and False"
   ]
  },
  {
   "cell_type": "code",
   "execution_count": null,
   "id": "6259f343-2ba0-4e0c-bc28-1e217e113f6e",
   "metadata": {},
   "outputs": [],
   "source": [
    "a = 21"
   ]
  },
  {
   "cell_type": "code",
   "execution_count": null,
   "id": "6b9b397e-eb69-474d-994f-2208986d5938",
   "metadata": {},
   "outputs": [],
   "source": [
    "not((a>5) and (a<24))"
   ]
  },
  {
   "cell_type": "code",
   "execution_count": null,
   "id": "a00012b4-cc4c-42f4-965b-a128707c4b6e",
   "metadata": {},
   "outputs": [],
   "source": [
    "a = 3\n",
    "if a>0:\n",
    "    print('a는 양수')\n",
    "    print('++++++++++++++')\n",
    "else:\n",
    "    print('a는 0 또는 음수')\n",
    "    print(\"--------------\")\n",
    "print('end')    "
   ]
  },
  {
   "cell_type": "markdown",
   "id": "945d19ae-a3dd-4bc9-b478-8a34d24a1919",
   "metadata": {},
   "source": [
    "# if-elif-else"
   ]
  },
  {
   "cell_type": "code",
   "execution_count": null,
   "id": "b807cd77-769c-4a92-a3f2-0b76ed63881c",
   "metadata": {},
   "outputs": [],
   "source": [
    "if a>0:\n",
    "    print('a는 양수')\n",
    "    print('+++++++++++++')\n",
    "elif a < 0 :\n",
    "    print('a는 음수')\n",
    "    print('-------------')\n",
    "else : \n",
    "    print('a는 0')\n",
    "print('end')    "
   ]
  },
  {
   "cell_type": "code",
   "execution_count": null,
   "id": "948c8ae7-ee75-4bff-a068-1e313b07b4cf",
   "metadata": {},
   "outputs": [],
   "source": [
    "bmi"
   ]
  },
  {
   "cell_type": "code",
   "execution_count": null,
   "id": "217b3f68-30d2-4e1a-9a69-7b583018a760",
   "metadata": {},
   "outputs": [],
   "source": [
    "height = float(input(\"키를 입력해주세요: \"))\n",
    "weight = float(input(\"몸무게를 입력해주세요: \"))\n",
    "\n",
    "bmi = weight / (height**2)\n",
    "\n",
    "if bmi> 25 :\n",
    "    print(\"비만\", bmi)\n",
    "elif bmi >23 :\n",
    "    print(\"과체중\", bmi)\n",
    "elif bmi > 18.5:\n",
    "    print(\"정상\", bmi)\n",
    "else:\n",
    "    print(\"저체중\", bmi)"
   ]
  },
  {
   "cell_type": "markdown",
   "id": "df73576f-2304-4380-9891-6f8dd277cc02",
   "metadata": {},
   "source": [
    "while"
   ]
  },
  {
   "cell_type": "code",
   "execution_count": null,
   "id": "fb755aca-821f-454c-af1a-c6da934bd830",
   "metadata": {},
   "outputs": [],
   "source": [
    "i = 0\n",
    "while i < 10:\n",
    "    print(i)\n",
    "    i = i+1"
   ]
  },
  {
   "cell_type": "code",
   "execution_count": null,
   "id": "9613ed0e-e42c-45ed-af4b-c4789b74ee1c",
   "metadata": {},
   "outputs": [],
   "source": [
    "number = int(input(\"number: \"))\n",
    "count=0\n",
    "while number > 0:\n",
    "  \n",
    "    number -=1\n",
    "    print(number)\n",
    "    count+=1\n",
    "print(\"반복번수\",count)    "
   ]
  },
  {
   "cell_type": "code",
   "execution_count": 4,
   "id": "e7966e1a-7867-40d3-be7a-de1ef6d8ffe3",
   "metadata": {},
   "outputs": [
    {
     "name": "stdout",
     "output_type": "stream",
     "text": [
      "0\n",
      "1\n",
      "2\n",
      "3\n",
      "4\n",
      "5\n",
      "break\n"
     ]
    }
   ],
   "source": [
    "## break\n",
    "i = 0 \n",
    "while True:\n",
    "    print(i)\n",
    "    i+=1\n",
    "\n",
    "    if i > 5 :\n",
    "        print(\"break\")\n",
    "        break\n"
   ]
  },
  {
   "cell_type": "markdown",
   "id": "27abe0fc-d838-4643-9c5e-bae296716394",
   "metadata": {},
   "source": [
    "## range()"
   ]
  },
  {
   "cell_type": "code",
   "execution_count": 5,
   "id": "0b184d7b-1d61-4151-8611-c33918529afb",
   "metadata": {},
   "outputs": [
    {
     "data": {
      "text/plain": [
       "[0, 1, 2, 3, 4, 5, 6, 7, 8, 9]"
      ]
     },
     "execution_count": 5,
     "metadata": {},
     "output_type": "execute_result"
    }
   ],
   "source": [
    "list(range(0,10,1))"
   ]
  },
  {
   "cell_type": "code",
   "execution_count": 6,
   "id": "86b169e4-2027-4d18-8265-0bbe2eb7db94",
   "metadata": {},
   "outputs": [
    {
     "data": {
      "text/plain": [
       "[1, 3, 5, 7, 9]"
      ]
     },
     "execution_count": 6,
     "metadata": {},
     "output_type": "execute_result"
    }
   ],
   "source": [
    "list(range(1,11,2))"
   ]
  },
  {
   "cell_type": "code",
   "execution_count": 7,
   "id": "c954944a-17ff-4bf3-b314-1968836b9432",
   "metadata": {},
   "outputs": [
    {
     "data": {
      "text/plain": [
       "[0, 1, 2, 3, 4]"
      ]
     },
     "execution_count": 7,
     "metadata": {},
     "output_type": "execute_result"
    }
   ],
   "source": [
    "list(range(5))"
   ]
  },
  {
   "cell_type": "markdown",
   "id": "3ce2e403-e85d-4373-ab3f-697150aacf8b",
   "metadata": {},
   "source": [
    "## for"
   ]
  },
  {
   "cell_type": "code",
   "execution_count": 9,
   "id": "c04beb3b-f57b-441e-a209-1f4ae69710c0",
   "metadata": {},
   "outputs": [
    {
     "name": "stdout",
     "output_type": "stream",
     "text": [
      "1\n",
      "2\n",
      "3\n",
      "4\n",
      "5\n"
     ]
    }
   ],
   "source": [
    "for i in range(5):\n",
    "    print(i+1)"
   ]
  },
  {
   "cell_type": "code",
   "execution_count": 10,
   "id": "f8ff7f62-f2a1-4997-bebf-34c6cb5c85b5",
   "metadata": {},
   "outputs": [
    {
     "name": "stdout",
     "output_type": "stream",
     "text": [
      "1\n",
      "2\n",
      "3\n",
      "4\n",
      "5\n"
     ]
    }
   ],
   "source": [
    "for i in range(1,5+1):\n",
    "    print(i)"
   ]
  },
  {
   "cell_type": "code",
   "execution_count": 11,
   "id": "347928eb-e2aa-4f1d-9698-a573a7456327",
   "metadata": {},
   "outputs": [
    {
     "name": "stdout",
     "output_type": "stream",
     "text": [
      "0\n",
      "3\n",
      "6\n",
      "9\n",
      "12\n",
      "15\n",
      "18\n",
      "21\n",
      "24\n",
      "27\n",
      "30\n",
      "33\n",
      "36\n",
      "39\n",
      "42\n",
      "45\n",
      "48\n",
      "51\n",
      "54\n",
      "57\n",
      "60\n",
      "63\n",
      "66\n",
      "69\n",
      "72\n",
      "75\n",
      "78\n",
      "81\n",
      "84\n",
      "87\n",
      "90\n",
      "93\n",
      "96\n",
      "99\n"
     ]
    }
   ],
   "source": [
    "for i in range(100):\n",
    "    if i%3 == 0:\n",
    "        print(i)"
   ]
  },
  {
   "cell_type": "code",
   "execution_count": null,
   "id": "e775453a-e849-498d-ac90-7090407d8e22",
   "metadata": {},
   "outputs": [],
   "source": [
    "whz"
   ]
  }
 ],
 "metadata": {
  "kernelspec": {
   "display_name": "Python 3 (ipykernel)",
   "language": "python",
   "name": "python3"
  },
  "language_info": {
   "codemirror_mode": {
    "name": "ipython",
    "version": 3
   },
   "file_extension": ".py",
   "mimetype": "text/x-python",
   "name": "python",
   "nbconvert_exporter": "python",
   "pygments_lexer": "ipython3",
   "version": "3.12.2"
  }
 },
 "nbformat": 4,
 "nbformat_minor": 5
}
