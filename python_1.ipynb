{
 "cells": [
  {
   "cell_type": "markdown",
   "id": "f0b7cc70-eb5e-4f03-a501-24345e6ed096",
   "metadata": {},
   "source": [
    "print()와 주석"
   ]
  },
  {
   "cell_type": "code",
   "execution_count": 1,
   "id": "4529cd1f-a4a9-48fc-9b0b-f465c7fad02f",
   "metadata": {},
   "outputs": [
    {
     "name": "stdout",
     "output_type": "stream",
     "text": [
      "여기에 출력하고 싶은 내용\n"
     ]
    }
   ],
   "source": [
    "# pring()는 원하는 내용을 화면에 출력합니다.\n",
    "print(\"여기에 출력하고 싶은 내용\")"
   ]
  },
  {
   "cell_type": "markdown",
   "id": "745521f6-a490-48cc-a9c8-6cc97a598a4d",
   "metadata": {},
   "source": [
    "- 주석 단축키 : 주석 내용을 블록잡고 ctrl + /"
   ]
  },
  {
   "cell_type": "code",
   "execution_count": 2,
   "id": "0011970f-6aae-45b5-a73a-a36bafcb1181",
   "metadata": {},
   "outputs": [],
   "source": [
    "\n",
    "# 이 줄은 주석입니다. \n",
    "# 이 줄은 주석입니다. \n",
    "# 이 줄은 주석입니다. \n",
    "# 이 줄은 주석입니다. \n",
    "#     이 줄은 주석입니다. \n",
    "#     이 줄은 주석입니다. \n",
    "#     이 줄은 주석입니다. "
   ]
  },
  {
   "cell_type": "markdown",
   "id": "454fa1a8-ab56-428d-96bf-f1dc3385dc53",
   "metadata": {},
   "source": [
    "- 띄어쓰기를 맘대로 하지 말자!"
   ]
  },
  {
   "cell_type": "code",
   "execution_count": 3,
   "id": "46c88471-db56-4d19-b100-2994a6920414",
   "metadata": {},
   "outputs": [
    {
     "ename": "IndentationError",
     "evalue": "unexpected indent (611560065.py, line 2)",
     "output_type": "error",
     "traceback": [
      "\u001b[1;36m  Cell \u001b[1;32mIn[3], line 2\u001b[1;36m\u001b[0m\n\u001b[1;33m    print(\"bbbb\")\u001b[0m\n\u001b[1;37m    ^\u001b[0m\n\u001b[1;31mIndentationError\u001b[0m\u001b[1;31m:\u001b[0m unexpected indent\n"
     ]
    }
   ],
   "source": [
    "print(\"aaaa\")\n",
    "    print(\"bbbb\")"
   ]
  },
  {
   "cell_type": "markdown",
   "id": "83c21b4e-7587-42ae-8aba-3f00aba80645",
   "metadata": {},
   "source": [
    "# 에러 메세지\n",
    "### 문법에러 syntax error"
   ]
  },
  {
   "cell_type": "raw",
   "id": "f9bf272b-4472-4de7-8da5-80c0bcc48b86",
   "metadata": {},
   "source": [
    "print(\"Hello World!)"
   ]
  },
  {
   "cell_type": "code",
   "execution_count": null,
   "id": "ac7b35c4-1d0c-42cc-adda-970218b63100",
   "metadata": {},
   "outputs": [],
   "source": [
    "print(\"Hello World!)"
   ]
  },
  {
   "cell_type": "markdown",
   "id": "b2c04c07-f0ac-46b8-a66f-92bc17466210",
   "metadata": {},
   "source": [
    "### ex1"
   ]
  },
  {
   "cell_type": "code",
   "execution_count": null,
   "id": "8cacea8c-f4c9-4034-ae56-74fcff6018c6",
   "metadata": {},
   "outputs": [],
   "source": [
    "print(\"오늘 날짜는 2024-10-26입니다.\")"
   ]
  },
  {
   "cell_type": "markdown",
   "id": "c6847736-7caf-4ce1-b09e-6b3c320a4e9b",
   "metadata": {},
   "source": [
    "## ex2"
   ]
  },
  {
   "cell_type": "code",
   "execution_count": null,
   "id": "5dbb4f3a-50fe-40da-8d39-ad893334c109",
   "metadata": {},
   "outputs": [],
   "source": [
    "print(\"오늘 날짜는 2024-10-26입니다\")\n",
    "print(\"오늘 날짜는 2024-10-27입니다\")"
   ]
  },
  {
   "cell_type": "code",
   "execution_count": null,
   "id": "d3981fcc-a5db-4801-a8a0-64da8ca47b83",
   "metadata": {},
   "outputs": [],
   "source": []
  },
  {
   "cell_type": "code",
   "execution_count": null,
   "id": "28f42723-e479-4d3f-a292-536c0bd1f923",
   "metadata": {},
   "outputs": [],
   "source": [
    "print(1)\n",
    "print(2)\n",
    "print(3)\n",
    "print(4)\n",
    "print(5)\n",
    "print(6)\n",
    "print(7)"
   ]
  },
  {
   "cell_type": "code",
   "execution_count": null,
   "id": "9dd6a322-167d-4272-a58a-e5eec8dc4c49",
   "metadata": {},
   "outputs": [],
   "source": [
    "s = \"very 'easy' python\"\n",
    "s"
   ]
  },
  {
   "cell_type": "code",
   "execution_count": null,
   "id": "23bd96cf-6eb8-472a-81d6-4168acb05550",
   "metadata": {},
   "outputs": [],
   "source": [
    "#ex-07\n",
    "lang1 = \"Python\"\n",
    "lang2 = \"C++\"\n",
    "lang3 = \"Java\"\n",
    "lang4 = \"Pascal\"\n",
    "\n",
    "dev1 = \"Guido van Rossum\"\n",
    "dev2 = \"Bjarne Stroutrup\"\n",
    "dev3 = \"Jame Gosling\"\n",
    "\n",
    "sep =\" : \"\n",
    "\n",
    "print(\"#\" * 25)\n",
    "print(lang1+sep+dev1)\n",
    "print(lang2+sep+dev2)\n",
    "print(lang3+sep+dev3)\n",
    "print(\"#\" * 25)"
   ]
  },
  {
   "cell_type": "code",
   "execution_count": null,
   "id": "555257d4-230e-4685-8f7e-91225a8d7863",
   "metadata": {},
   "outputs": [],
   "source": [
    "print(\"#\" * 25)\n",
    "print(f\"{lang3:>7}{sep}{dev3}\")\n",
    "print(\"#\" * 25)"
   ]
  },
  {
   "cell_type": "code",
   "execution_count": null,
   "id": "646287a0-594e-49b0-87cc-277e1a50099f",
   "metadata": {},
   "outputs": [],
   "source": [
    "user_name = input()\n",
    "favorite_color = input()"
   ]
  },
  {
   "cell_type": "code",
   "execution_count": null,
   "id": "0b92b9bc-45d8-46b0-98fd-39d58e2ecbbe",
   "metadata": {},
   "outputs": [],
   "source": [
    "user_input = input(\"입력해주세요: \")"
   ]
  },
  {
   "cell_type": "code",
   "execution_count": null,
   "id": "1a12d506-5e7b-41bd-8594-c7e47701875b",
   "metadata": {},
   "outputs": [],
   "source": [
    "print(user_name + \"님이 가장 좋아하는 색깔은 \" + favorite_color + \"입니다.\")"
   ]
  },
  {
   "cell_type": "code",
   "execution_count": null,
   "id": "c991eae0-5a2e-4c98-b16c-5126ef9658b9",
   "metadata": {},
   "outputs": [],
   "source": [
    "print = \"something\"  # This will cause an issue\n",
    "\n",
    "# Reset it\n",
    "del print "
   ]
  },
  {
   "cell_type": "code",
   "execution_count": null,
   "id": "57c661d8-dd79-4ded-89a7-b51912451dcc",
   "metadata": {},
   "outputs": [],
   "source": [
    "num1 = int(input())\n",
    "num2 = int(input())"
   ]
  },
  {
   "cell_type": "code",
   "execution_count": null,
   "id": "6b810524-8adb-400b-95b6-506748b9edf9",
   "metadata": {},
   "outputs": [],
   "source": [
    "del print"
   ]
  },
  {
   "cell_type": "code",
   "execution_count": null,
   "id": "e6e26189-c5ce-48ca-a796-0b964ad9b9c7",
   "metadata": {},
   "outputs": [],
   "source": [
    "print(f\"+ : {num1} + {num2} = {num1 + num2}\")\n",
    "print(f\"* : {num1} * {num2} = {num1 * num2}\")\n",
    "print(f\"/ : {num1} / {num2} = {num1 / num2}\")\n",
    "print(f\"- : {num1} - {num2} = {num1 - num2}\")"
   ]
  },
  {
   "cell_type": "code",
   "execution_count": null,
   "id": "124bc51c-27f7-497f-86f2-ca1170835d7a",
   "metadata": {},
   "outputs": [],
   "source": []
  },
  {
   "cell_type": "code",
   "execution_count": null,
   "id": "c13c01db-f06c-4009-b13f-68fabf2bfd59",
   "metadata": {},
   "outputs": [],
   "source": [
    "a= int(98.3)"
   ]
  },
  {
   "cell_type": "markdown",
   "id": "4c7fb636-283f-4191-b854-3f8df8e7c467",
   "metadata": {},
   "source": [
    "a"
   ]
  },
  {
   "cell_type": "code",
   "execution_count": null,
   "id": "619ac487-9e6d-4688-84ee-431e5a9bb20d",
   "metadata": {},
   "outputs": [],
   "source": [
    "1+1.0"
   ]
  },
  {
   "cell_type": "markdown",
   "id": "33be9f7e-7a21-45c5-a6c7-0f035e148fe1",
   "metadata": {},
   "source": [
    "BMI = WEIGHT / HEIGHT*HEIGHT"
   ]
  },
  {
   "cell_type": "code",
   "execution_count": null,
   "id": "f1e19967-dfe9-4df6-8008-a40ce471af86",
   "metadata": {},
   "outputs": [],
   "source": [
    "height = float(input(\"키를 입력해주세요: \"))\n",
    "weight = float(input(\"몸무게를 입력해주세요: \"))\n",
    "\n",
    "bmi = weight / (height**2)\n",
    "\n",
    "bmi"
   ]
  },
  {
   "cell_type": "code",
   "execution_count": null,
   "id": "e1f24abb-214b-4377-b37d-7673e779ce91",
   "metadata": {},
   "outputs": [],
   "source": [
    "name = input(\"너의 이름: \")\n",
    "kor = int(input(\"국어 점수: \"))\n",
    "eng = int(input(\"수학 점수: \"))\n",
    "sci = int(input(\"과학 점수: \"))\n",
    "\n",
    "total = kor+eng+sci\n",
    "\n",
    "print(f\"{name}의 총점은 {total}이고 평균은 {total/3}입니다.\")"
   ]
  },
  {
   "cell_type": "code",
   "execution_count": null,
   "id": "03b870ff-3078-484e-ab40-72368987cf8f",
   "metadata": {},
   "outputs": [],
   "source": [
    "\n",
    "composer1 = 'Beethoven'\n",
    "composer2 = 'Bach'\n",
    "\n",
    "\n",
    "print(f\"I love {composer1}'s Symphony No.3 'Eroica'.\")\n",
    "print(f\"I love {composer2}'s Goldberg Variation.\")\n",
    "#print(f\"I love {composer3}'s Die Zauberflöte\")"
   ]
  },
  {
   "cell_type": "code",
   "execution_count": null,
   "id": "ee6f2ba3-0e6e-47b2-87c1-3dc78ac5779d",
   "metadata": {},
   "outputs": [],
   "source": [
    "radi = int(input(\"원의 반지름을 입력하세요: \"))\n",
    "pi = 3.14       \n",
    "\n",
    "!rud351153"
   ]
  },
  {
   "cell_type": "code",
   "execution_count": null,
   "id": "3cedcaa3-52d6-43b4-89f2-7ef3f2a6386f",
   "metadata": {},
   "outputs": [],
   "source": [
    "e = 2.718\n",
    "root_2pi = 2.506\n",
    "sigma = 0.5\n",
    "mu=1\n",
    "x=0.1"
   ]
  },
  {
   "cell_type": "code",
   "execution_count": null,
   "id": "1dd505b6-b6a1-4ff2-bd73-8a5ba8fd82ea",
   "metadata": {},
   "outputs": [],
   "source": [
    "(((1/(root_2pi*sigma)))*e)**(-((x-mu))**2/(2*(sigma**2)))"
   ]
  },
  {
   "cell_type": "code",
   "execution_count": null,
   "id": "5662b895-097c-460a-9c92-9422a8a8eae5",
   "metadata": {},
   "outputs": [],
   "source": [
    "1/(sigma*root_2pi) * e**(-((x-mu)**2) / (2*sigma**2))"
   ]
  },
  {
   "cell_type": "markdown",
   "id": "c6033c3e-56f7-4cb4-9a12-2b480d20feda",
   "metadata": {},
   "source": [
    "## bool"
   ]
  },
  {
   "cell_type": "code",
   "execution_count": null,
   "id": "0e4e7676-06ca-47fe-bc8a-71342e334e67",
   "metadata": {},
   "outputs": [],
   "source": [
    "True, False, type(True), type(False)"
   ]
  },
  {
   "cell_type": "code",
   "execution_count": null,
   "id": "d7c6bd78-f45d-48b1-b83c-cca2bc896804",
   "metadata": {},
   "outputs": [],
   "source": [
    "a=1\n",
    "b=0\n",
    "\n",
    "a==b, a >=b, a > b, a < b, a!=b"
   ]
  },
  {
   "cell_type": "code",
   "execution_count": null,
   "id": "6c660c47-bef1-4d35-b8aa-3e96476ce904",
   "metadata": {},
   "outputs": [],
   "source": [
    "int(True), int(False)"
   ]
  },
  {
   "cell_type": "code",
   "execution_count": null,
   "id": "1aa7d7b7-0095-47f3-b847-4a6067b615cd",
   "metadata": {},
   "outputs": [],
   "source": [
    "bool(\"abc\"), bool(\"\")"
   ]
  },
  {
   "cell_type": "markdown",
   "id": "d327858f-7db3-4703-811d-72180a5be3c2",
   "metadata": {},
   "source": [
    "## 논리 연산자 and, or, not"
   ]
  },
  {
   "cell_type": "code",
   "execution_count": null,
   "id": "94c6d17e-6a32-4ac9-8592-4cc5545513a5",
   "metadata": {},
   "outputs": [],
   "source": [
    "True and True, True and False, False and True, False and False"
   ]
  },
  {
   "cell_type": "code",
   "execution_count": null,
   "id": "6259f343-2ba0-4e0c-bc28-1e217e113f6e",
   "metadata": {},
   "outputs": [],
   "source": [
    "a = 21"
   ]
  },
  {
   "cell_type": "code",
   "execution_count": null,
   "id": "6b9b397e-eb69-474d-994f-2208986d5938",
   "metadata": {},
   "outputs": [],
   "source": [
    "not((a>5) and (a<24))"
   ]
  },
  {
   "cell_type": "code",
   "execution_count": null,
   "id": "a00012b4-cc4c-42f4-965b-a128707c4b6e",
   "metadata": {},
   "outputs": [],
   "source": [
    "a = 3\n",
    "if a>0:\n",
    "    print('a는 양수')\n",
    "    print('++++++++++++++')\n",
    "else:\n",
    "    print('a는 0 또는 음수')\n",
    "    print(\"--------------\")\n",
    "print('end')    "
   ]
  },
  {
   "cell_type": "markdown",
   "id": "945d19ae-a3dd-4bc9-b478-8a34d24a1919",
   "metadata": {},
   "source": [
    "# if-elif-else"
   ]
  },
  {
   "cell_type": "code",
   "execution_count": null,
   "id": "b807cd77-769c-4a92-a3f2-0b76ed63881c",
   "metadata": {},
   "outputs": [],
   "source": [
    "if a>0:\n",
    "    print('a는 양수')\n",
    "    print('+++++++++++++')\n",
    "elif a < 0 :\n",
    "    print('a는 음수')\n",
    "    print('-------------')\n",
    "else : \n",
    "    print('a는 0')\n",
    "print('end')    "
   ]
  },
  {
   "cell_type": "code",
   "execution_count": null,
   "id": "948c8ae7-ee75-4bff-a068-1e313b07b4cf",
   "metadata": {},
   "outputs": [],
   "source": [
    "bmi"
   ]
  },
  {
   "cell_type": "code",
   "execution_count": null,
   "id": "217b3f68-30d2-4e1a-9a69-7b583018a760",
   "metadata": {},
   "outputs": [],
   "source": [
    "height = float(input(\"키를 입력해주세요: \"))\n",
    "weight = float(input(\"몸무게를 입력해주세요: \"))\n",
    "\n",
    "bmi = weight / (height**2)\n",
    "\n",
    "if bmi> 25 :\n",
    "    print(\"비만\", bmi)\n",
    "elif bmi >23 :\n",
    "    print(\"과체중\", bmi)\n",
    "elif bmi > 18.5:\n",
    "    print(\"정상\", bmi)\n",
    "else:\n",
    "    print(\"저체중\", bmi)"
   ]
  },
  {
   "cell_type": "markdown",
   "id": "df73576f-2304-4380-9891-6f8dd277cc02",
   "metadata": {},
   "source": [
    "while"
   ]
  },
  {
   "cell_type": "code",
   "execution_count": null,
   "id": "fb755aca-821f-454c-af1a-c6da934bd830",
   "metadata": {},
   "outputs": [],
   "source": [
    "i = 0\n",
    "while i < 10:\n",
    "    print(i)\n",
    "    i = i+1"
   ]
  },
  {
   "cell_type": "code",
   "execution_count": null,
   "id": "9613ed0e-e42c-45ed-af4b-c4789b74ee1c",
   "metadata": {},
   "outputs": [],
   "source": [
    "number = int(input(\"number: \"))\n",
    "count=0\n",
    "while number > 0:\n",
    "  \n",
    "    number -=1\n",
    "    print(number)\n",
    "    count+=1\n",
    "print(\"반복번수\",count)    "
   ]
  },
  {
   "cell_type": "code",
   "execution_count": 4,
   "id": "e7966e1a-7867-40d3-be7a-de1ef6d8ffe3",
   "metadata": {},
   "outputs": [
    {
     "name": "stdout",
     "output_type": "stream",
     "text": [
      "0\n",
      "1\n",
      "2\n",
      "3\n",
      "4\n",
      "5\n",
      "break\n"
     ]
    }
   ],
   "source": [
    "## break\n",
    "i = 0 \n",
    "while True:\n",
    "    print(i)\n",
    "    i+=1\n",
    "\n",
    "    if i > 5 :\n",
    "        print(\"break\")\n",
    "        break\n"
   ]
  },
  {
   "cell_type": "markdown",
   "id": "27abe0fc-d838-4643-9c5e-bae296716394",
   "metadata": {},
   "source": [
    "## range()"
   ]
  },
  {
   "cell_type": "code",
   "execution_count": 5,
   "id": "0b184d7b-1d61-4151-8611-c33918529afb",
   "metadata": {},
   "outputs": [
    {
     "data": {
      "text/plain": [
       "[0, 1, 2, 3, 4, 5, 6, 7, 8, 9]"
      ]
     },
     "execution_count": 5,
     "metadata": {},
     "output_type": "execute_result"
    }
   ],
   "source": [
    "list(range(0,10,1))"
   ]
  },
  {
   "cell_type": "code",
   "execution_count": 6,
   "id": "86b169e4-2027-4d18-8265-0bbe2eb7db94",
   "metadata": {},
   "outputs": [
    {
     "data": {
      "text/plain": [
       "[1, 3, 5, 7, 9]"
      ]
     },
     "execution_count": 6,
     "metadata": {},
     "output_type": "execute_result"
    }
   ],
   "source": [
    "list(range(1,11,2))"
   ]
  },
  {
   "cell_type": "code",
   "execution_count": 7,
   "id": "c954944a-17ff-4bf3-b314-1968836b9432",
   "metadata": {},
   "outputs": [
    {
     "data": {
      "text/plain": [
       "[0, 1, 2, 3, 4]"
      ]
     },
     "execution_count": 7,
     "metadata": {},
     "output_type": "execute_result"
    }
   ],
   "source": [
    "list(range(5))"
   ]
  },
  {
   "cell_type": "markdown",
   "id": "3ce2e403-e85d-4373-ab3f-697150aacf8b",
   "metadata": {},
   "source": [
    "## for"
   ]
  },
  {
   "cell_type": "code",
   "execution_count": 9,
   "id": "c04beb3b-f57b-441e-a209-1f4ae69710c0",
   "metadata": {},
   "outputs": [
    {
     "name": "stdout",
     "output_type": "stream",
     "text": [
      "1\n",
      "2\n",
      "3\n",
      "4\n",
      "5\n"
     ]
    }
   ],
   "source": [
    "for i in range(5):\n",
    "    print(i+1)"
   ]
  },
  {
   "cell_type": "code",
   "execution_count": 10,
   "id": "f8ff7f62-f2a1-4997-bebf-34c6cb5c85b5",
   "metadata": {},
   "outputs": [
    {
     "name": "stdout",
     "output_type": "stream",
     "text": [
      "1\n",
      "2\n",
      "3\n",
      "4\n",
      "5\n"
     ]
    }
   ],
   "source": [
    "for i in range(1,5+1):\n",
    "    print(i)"
   ]
  },
  {
   "cell_type": "code",
   "execution_count": 11,
   "id": "347928eb-e2aa-4f1d-9698-a573a7456327",
   "metadata": {},
   "outputs": [
    {
     "name": "stdout",
     "output_type": "stream",
     "text": [
      "0\n",
      "3\n",
      "6\n",
      "9\n",
      "12\n",
      "15\n",
      "18\n",
      "21\n",
      "24\n",
      "27\n",
      "30\n",
      "33\n",
      "36\n",
      "39\n",
      "42\n",
      "45\n",
      "48\n",
      "51\n",
      "54\n",
      "57\n",
      "60\n",
      "63\n",
      "66\n",
      "69\n",
      "72\n",
      "75\n",
      "78\n",
      "81\n",
      "84\n",
      "87\n",
      "90\n",
      "93\n",
      "96\n",
      "99\n"
     ]
    }
   ],
   "source": [
    "for i in range(100):\n",
    "    if i%3 == 0:\n",
    "        print(i)"
   ]
  },
  {
   "cell_type": "code",
   "execution_count": null,
   "id": "e775453a-e849-498d-ac90-7090407d8e22",
   "metadata": {},
   "outputs": [],
   "source": [
    "whz"
   ]
  },
  {
   "cell_type": "code",
   "execution_count": 4,
   "id": "87d2a6aa-6aea-4a75-a519-042cbd1a83e8",
   "metadata": {},
   "outputs": [
    {
     "name": "stdin",
     "output_type": "stream",
     "text": [
      "몇 단을 출력할까요? 2\n"
     ]
    },
    {
     "name": "stdout",
     "output_type": "stream",
     "text": [
      "2 x 1 = 2\n",
      "2 x 2 = 4\n",
      "2 x 3 = 6\n",
      "2 x 4 = 8\n",
      "2 x 5 = 10\n",
      "2 x 6 = 12\n",
      "2 x 7 = 14\n",
      "2 x 8 = 16\n",
      "2 x 9 = 18\n"
     ]
    }
   ],
   "source": [
    "n = int(input(\"몇 단을 출력할까요?\"))\n",
    "for i in range(1,10):\n",
    "        print(f\"{n} x {i} = {n*i}\")"
   ]
  },
  {
   "cell_type": "code",
   "execution_count": 8,
   "id": "03f1db45-a9af-4fe5-bb4c-c6a7eacfd632",
   "metadata": {},
   "outputs": [
    {
     "name": "stdin",
     "output_type": "stream",
     "text": [
      "n:  3\n"
     ]
    },
    {
     "name": "stdout",
     "output_type": "stream",
     "text": [
      "6\n"
     ]
    }
   ],
   "source": [
    "n = int(input(\"n: \"))\n",
    "sum = 0 \n",
    "for i in range(n+1):\n",
    "    sum +=i\n",
    "print(sum)    \n",
    "    "
   ]
  },
  {
   "cell_type": "markdown",
   "id": "238a4a4b-2b2f-4aa3-b959-da4da613507a",
   "metadata": {},
   "source": [
    "\n",
    "user_pwd = \"abcd\"\n",
    "success = False\n",
    "\n",
    "uid = input(\"ID: \")\n",
    "\n",
    "if user_id == uid:\n",
    "    input_pwd = input(\"PW: \")\n",
    "    if user_pwd == input_pwd:\n",
    "        prin(\"로그인 성공\")\n",
    "        success = True\n",
    "        break\n",
    "    else:\n",
    "        print(\"비번이 틀립니다\")\n",
    "        \n",
    "else:\n",
    "      print(\"아이디가 존재하지 않습니다\")\n",
    "      \n",
    "if not success and t == 4:\n",
    "    print(\"로그인 시도횟수 초과\")\n",
    "    "
   ]
  },
  {
   "cell_type": "code",
   "execution_count": 1,
   "id": "37baba46-c330-43ba-9282-eb57275dc105",
   "metadata": {},
   "outputs": [
    {
     "name": "stdin",
     "output_type": "stream",
     "text": [
      "PW:  34\n"
     ]
    },
    {
     "name": "stdout",
     "output_type": "stream",
     "text": [
      "패스워드가 틀립니다\n"
     ]
    },
    {
     "name": "stdin",
     "output_type": "stream",
     "text": [
      "PW:  34\n"
     ]
    },
    {
     "name": "stdout",
     "output_type": "stream",
     "text": [
      "패스워드가 틀립니다\n"
     ]
    },
    {
     "name": "stdin",
     "output_type": "stream",
     "text": [
      "PW:  34\n"
     ]
    },
    {
     "name": "stdout",
     "output_type": "stream",
     "text": [
      "패스워드가 틀립니다\n"
     ]
    },
    {
     "name": "stdin",
     "output_type": "stream",
     "text": [
      "PW:  34\n"
     ]
    },
    {
     "name": "stdout",
     "output_type": "stream",
     "text": [
      "패스워드가 틀립니다\n"
     ]
    },
    {
     "name": "stdin",
     "output_type": "stream",
     "text": [
      "PW:  34\n"
     ]
    },
    {
     "name": "stdout",
     "output_type": "stream",
     "text": [
      "패스워드가 틀립니다\n",
      "로그인 시도 횟수 추가\n"
     ]
    }
   ],
   "source": [
    "user_id = \"python\"\n",
    "user_pwd = \"abcd\"\n",
    "\n",
    "for i in range(5):\n",
    "    input_pwd = input(\"PW: \")\n",
    "    if user_pwd == input_pwd: \n",
    "            print(\"로그인 성공\")\n",
    "            break    \n",
    "    else:\n",
    "        print(\"패스워드가 틀립니다\")\n",
    "\n",
    "print(\"로그인 시도 횟수 추가\")"
   ]
  },
  {
   "cell_type": "code",
   "execution_count": null,
   "id": "b30e4c84-4df8-4ee0-80f9-43dd4193bf6b",
   "metadata": {},
   "outputs": [
    {
     "name": "stdout",
     "output_type": "stream",
     "text": [
      "[메뉴를 입력하세요]\n"
     ]
    },
    {
     "name": "stdin",
     "output_type": "stream",
     "text": [
      "1.게임시작 2.랭킹보기 3.게임종료>>> 4\n"
     ]
    },
    {
     "name": "stdout",
     "output_type": "stream",
     "text": [
      "다시 입력해주세요\n",
      "[메뉴를 입력하세요]\n"
     ]
    },
    {
     "name": "stdin",
     "output_type": "stream",
     "text": [
      "1.게임시작 2.랭킹보기 3.게임종료>>> 5\n"
     ]
    },
    {
     "name": "stdout",
     "output_type": "stream",
     "text": [
      "다시 입력해주세요\n",
      "[메뉴를 입력하세요]\n"
     ]
    },
    {
     "name": "stdin",
     "output_type": "stream",
     "text": [
      "1.게임시작 2.랭킹보기 3.게임종료>>> 3\n"
     ]
    },
    {
     "name": "stdout",
     "output_type": "stream",
     "text": [
      "다시 입력해주세요\n",
      "[메뉴를 입력하세요]\n"
     ]
    },
    {
     "name": "stdin",
     "output_type": "stream",
     "text": [
      "1.게임시작 2.랭킹보기 3.게임종료>>> 3\n"
     ]
    },
    {
     "name": "stdout",
     "output_type": "stream",
     "text": [
      "다시 입력해주세요\n",
      "[메뉴를 입력하세요]\n"
     ]
    }
   ],
   "source": [
    "while True:\n",
    "    print(\"[메뉴를 입력하세요]\")\n",
    "    input_num = input(\"1.게임시작 2.랭킹보기 3.게임종료>>>\")\n",
    "    if input_num == 1 :\n",
    "        print(\"게임을 시작합니다.\")\n",
    "       \n",
    "    elif input_num == 2 : \n",
    "        print(\"랭킹\")\n",
    "     \n",
    "    elif input_num == 3 : \n",
    "        print(\"게임을 종료합니다\")\n",
    "        break\n",
    "    else: \n",
    "        print(\"다시 입력해주세요\")"
   ]
  },
  {
   "cell_type": "markdown",
   "id": "2bf1edac-4c45-4f25-b046-d8ad560283fd",
   "metadata": {},
   "source": [
    "## 중첩된 for"
   ]
  },
  {
   "cell_type": "code",
   "execution_count": 1,
   "id": "829f15fd-f2d2-4664-af77-ea3f576d1e7a",
   "metadata": {},
   "outputs": [
    {
     "name": "stdout",
     "output_type": "stream",
     "text": [
      "0 0\n",
      "0 1\n",
      "0 2\n",
      "1 0\n",
      "1 1\n",
      "1 2\n"
     ]
    }
   ],
   "source": [
    "for i in range(2):\n",
    "    for j in range(3):\n",
    "        print(i,j)"
   ]
  },
  {
   "cell_type": "code",
   "execution_count": 7,
   "id": "7c4b86e9-b0a2-458a-81b0-7bc649f76732",
   "metadata": {},
   "outputs": [
    {
     "name": "stdout",
     "output_type": "stream",
     "text": [
      "2x1 = 2\n",
      "2x2 = 4\n",
      "2x3 = 6\n",
      "2x4 = 8\n",
      "2x5 = 10\n",
      "2x6 = 12\n",
      "2x7 = 14\n",
      "2x8 = 16\n",
      "2x9 = 18\n",
      "=================\n",
      "3x1 = 3\n",
      "3x2 = 6\n",
      "3x3 = 9\n",
      "3x4 = 12\n",
      "3x5 = 15\n",
      "3x6 = 18\n",
      "3x7 = 21\n",
      "3x8 = 24\n",
      "3x9 = 27\n",
      "=================\n",
      "4x1 = 4\n",
      "4x2 = 8\n",
      "4x3 = 12\n",
      "4x4 = 16\n",
      "4x5 = 20\n",
      "4x6 = 24\n",
      "4x7 = 28\n",
      "4x8 = 32\n",
      "4x9 = 36\n",
      "=================\n",
      "5x1 = 5\n",
      "5x2 = 10\n",
      "5x3 = 15\n",
      "5x4 = 20\n",
      "5x5 = 25\n",
      "5x6 = 30\n",
      "5x7 = 35\n",
      "5x8 = 40\n",
      "5x9 = 45\n",
      "=================\n",
      "6x1 = 6\n",
      "6x2 = 12\n",
      "6x3 = 18\n",
      "6x4 = 24\n",
      "6x5 = 30\n",
      "6x6 = 36\n",
      "6x7 = 42\n",
      "6x8 = 48\n",
      "6x9 = 54\n",
      "=================\n",
      "7x1 = 7\n",
      "7x2 = 14\n",
      "7x3 = 21\n",
      "7x4 = 28\n",
      "7x5 = 35\n",
      "7x6 = 42\n",
      "7x7 = 49\n",
      "7x8 = 56\n",
      "7x9 = 63\n",
      "=================\n",
      "8x1 = 8\n",
      "8x2 = 16\n",
      "8x3 = 24\n",
      "8x4 = 32\n",
      "8x5 = 40\n",
      "8x6 = 48\n",
      "8x7 = 56\n",
      "8x8 = 64\n",
      "8x9 = 72\n",
      "=================\n",
      "9x1 = 9\n",
      "9x2 = 18\n",
      "9x3 = 27\n",
      "9x4 = 36\n",
      "9x5 = 45\n",
      "9x6 = 54\n",
      "9x7 = 63\n",
      "9x8 = 72\n",
      "9x9 = 81\n"
     ]
    }
   ],
   "source": [
    "for i in range(2,10):\n",
    "    for j in range(1,10):\n",
    "        print(f\"{i}x{j} = {i*j}\")\n",
    "    if i < 9 :    \n",
    "        print(\"=================\")"
   ]
  },
  {
   "cell_type": "markdown",
   "id": "d33fdc1c-f350-4a54-b9b1-6398b345a131",
   "metadata": {},
   "source": [
    "## Sequence\n",
    "\n",
    "## 문자열"
   ]
  },
  {
   "cell_type": "code",
   "execution_count": 9,
   "id": "7c228a19-7f5b-4bac-9dc3-a700241788f7",
   "metadata": {},
   "outputs": [
    {
     "data": {
      "text/plain": [
       "6"
      ]
     },
     "execution_count": 9,
     "metadata": {},
     "output_type": "execute_result"
    }
   ],
   "source": [
    "s = \"python\"\n",
    "\n",
    "# 1. len()\n",
    "\n",
    "len(s)"
   ]
  },
  {
   "cell_type": "code",
   "execution_count": 10,
   "id": "deee886d-9009-4ba8-ad5c-4d76676b3183",
   "metadata": {},
   "outputs": [
    {
     "data": {
      "text/plain": [
       "'p'"
      ]
     },
     "execution_count": 10,
     "metadata": {},
     "output_type": "execute_result"
    }
   ],
   "source": [
    "# 2. indexing, []\n",
    "# 0부터 위치를 나타내는 숫자 시작\n",
    "s[0]"
   ]
  },
  {
   "cell_type": "code",
   "execution_count": 11,
   "id": "b15e4d92-d13d-4a05-a9dd-b9d7c115566a",
   "metadata": {},
   "outputs": [
    {
     "name": "stdout",
     "output_type": "stream",
     "text": [
      "p\n",
      "y\n",
      "t\n",
      "h\n",
      "o\n",
      "n\n"
     ]
    }
   ],
   "source": [
    "s = \"python\"\n",
    "for c in s :\n",
    "    print(c)"
   ]
  },
  {
   "cell_type": "markdown",
   "id": "9e737f4e-0cef-4a0a-8267-374c84ca0c56",
   "metadata": {},
   "source": [
    "## tuple 튜플"
   ]
  },
  {
   "cell_type": "code",
   "execution_count": 12,
   "id": "96228f66-85b0-4a02-bb2f-8d92d153c90b",
   "metadata": {},
   "outputs": [
    {
     "data": {
      "text/plain": [
       "tuple"
      ]
     },
     "execution_count": 12,
     "metadata": {},
     "output_type": "execute_result"
    }
   ],
   "source": [
    "zoo = ('python','elephant','penguin')\n",
    "type(zoo)"
   ]
  },
  {
   "cell_type": "code",
   "execution_count": 13,
   "id": "c9229f33-4d85-409e-b445-9dfc9c8f851b",
   "metadata": {},
   "outputs": [
    {
     "data": {
      "text/plain": [
       "('python', str)"
      ]
     },
     "execution_count": 13,
     "metadata": {},
     "output_type": "execute_result"
    }
   ],
   "source": [
    "zoo[0], type(zoo[0])"
   ]
  },
  {
   "cell_type": "code",
   "execution_count": 14,
   "id": "b5fcd3e7-2e70-4de4-83ec-2774d5344db8",
   "metadata": {},
   "outputs": [
    {
     "data": {
      "text/plain": [
       "tuple"
      ]
     },
     "execution_count": 14,
     "metadata": {},
     "output_type": "execute_result"
    }
   ],
   "source": [
    "zoo = 'python','elephant','penguin'\n",
    "type(zoo)"
   ]
  },
  {
   "cell_type": "code",
   "execution_count": 15,
   "id": "c5c11f13-084f-463a-9295-97cd4db8d387",
   "metadata": {},
   "outputs": [
    {
     "data": {
      "text/plain": [
       "'python'"
      ]
     },
     "execution_count": 15,
     "metadata": {},
     "output_type": "execute_result"
    }
   ],
   "source": [
    "ani1,ani2,ani3 = zoo\n",
    "ani1"
   ]
  },
  {
   "cell_type": "code",
   "execution_count": 16,
   "id": "a1b48587-90a6-497c-a050-0b1d2b714c01",
   "metadata": {},
   "outputs": [
    {
     "data": {
      "text/plain": [
       "(173, 65, 'M', 28)"
      ]
     },
     "execution_count": 16,
     "metadata": {},
     "output_type": "execute_result"
    }
   ],
   "source": [
    "chulsoo = (173, 65, 'M', 28)\n",
    "chulsoo"
   ]
  },
  {
   "cell_type": "code",
   "execution_count": 17,
   "id": "6228f8ab-e393-4f16-90ff-3d18487aa913",
   "metadata": {},
   "outputs": [
    {
     "ename": "NameError",
     "evalue": "name 'chulsu' is not defined",
     "output_type": "error",
     "traceback": [
      "\u001b[1;31m---------------------------------------------------------------------------\u001b[0m",
      "\u001b[1;31mNameError\u001b[0m                                 Traceback (most recent call last)",
      "Cell \u001b[1;32mIn[17], line 1\u001b[0m\n\u001b[1;32m----> 1\u001b[0m \u001b[43mchulsu\u001b[49m[\u001b[38;5;241m0\u001b[39m] \u001b[38;5;241m=\u001b[39m \u001b[38;5;241m755\u001b[39m\n",
      "\u001b[1;31mNameError\u001b[0m: name 'chulsu' is not defined"
     ]
    }
   ],
   "source": [
    "chulsu[0] = 755"
   ]
  },
  {
   "cell_type": "markdown",
   "id": "04ef4f9f-275c-4194-a7c6-f7d810736ac4",
   "metadata": {},
   "source": [
    "## 리스트 List"
   ]
  },
  {
   "cell_type": "code",
   "execution_count": 18,
   "id": "8fe84964-b7cf-4b7b-9347-52a5322fe5f2",
   "metadata": {},
   "outputs": [
    {
     "data": {
      "text/plain": [
       "(['apple', 'mango', 'carrot', 'banana'], list)"
      ]
     },
     "execution_count": 18,
     "metadata": {},
     "output_type": "execute_result"
    }
   ],
   "source": [
    "shoplist = ['apple','mango','carrot','banana']\n",
    "shoplist,type(shoplist)"
   ]
  },
  {
   "cell_type": "code",
   "execution_count": 19,
   "id": "9bb37e32-a89c-4e6f-9382-6ff9b4d28508",
   "metadata": {},
   "outputs": [
    {
     "data": {
      "text/plain": [
       "('apple', 'mango')"
      ]
     },
     "execution_count": 19,
     "metadata": {},
     "output_type": "execute_result"
    }
   ],
   "source": [
    "shoplist[0], shoplist[1]"
   ]
  },
  {
   "cell_type": "code",
   "execution_count": 20,
   "id": "28b0ed5a-48bb-469e-bffb-af3806c43601",
   "metadata": {},
   "outputs": [
    {
     "ename": "IndexError",
     "evalue": "list index out of range",
     "output_type": "error",
     "traceback": [
      "\u001b[1;31m---------------------------------------------------------------------------\u001b[0m",
      "\u001b[1;31mIndexError\u001b[0m                                Traceback (most recent call last)",
      "Cell \u001b[1;32mIn[20], line 2\u001b[0m\n\u001b[0;32m      1\u001b[0m \u001b[38;5;66;03m#index error\u001b[39;00m\n\u001b[1;32m----> 2\u001b[0m \u001b[43mshoplist\u001b[49m\u001b[43m[\u001b[49m\u001b[38;5;241;43m4\u001b[39;49m\u001b[43m]\u001b[49m\n",
      "\u001b[1;31mIndexError\u001b[0m: list index out of range"
     ]
    }
   ],
   "source": [
    "#index error\n",
    "shoplist[4]"
   ]
  },
  {
   "cell_type": "code",
   "execution_count": 21,
   "id": "e066f970-8bd0-4f66-9732-f672afa8c401",
   "metadata": {},
   "outputs": [
    {
     "data": {
      "text/plain": [
       "[]"
      ]
     },
     "execution_count": 21,
     "metadata": {},
     "output_type": "execute_result"
    }
   ],
   "source": [
    "# 빈 리스트\n",
    "empty_list = []\n",
    "empty_list"
   ]
  },
  {
   "cell_type": "code",
   "execution_count": 22,
   "id": "b604fd61-51c4-443a-8780-18d7a9efa9a2",
   "metadata": {},
   "outputs": [
    {
     "data": {
      "text/plain": [
       "['apple']"
      ]
     },
     "execution_count": 22,
     "metadata": {},
     "output_type": "execute_result"
    }
   ],
   "source": [
    "empty_list.append('apple')\n",
    "empty_list"
   ]
  },
  {
   "cell_type": "code",
   "execution_count": 25,
   "id": "6a04aaa9-6395-45bc-8e62-5035b31a64ce",
   "metadata": {},
   "outputs": [
    {
     "data": {
      "text/plain": [
       "['apple', 'banana', 'banana', 'banana']"
      ]
     },
     "execution_count": 25,
     "metadata": {},
     "output_type": "execute_result"
    }
   ],
   "source": [
    "empty_list.append(\"banana\")\n",
    "empty_list"
   ]
  },
  {
   "cell_type": "code",
   "execution_count": 26,
   "id": "5cc80710-f8f8-4636-b16a-b4c71c2ad372",
   "metadata": {},
   "outputs": [],
   "source": [
    "empty_list.append(\"strawberry\")"
   ]
  },
  {
   "cell_type": "code",
   "execution_count": 27,
   "id": "4d453ad8-639f-470f-9ce1-8284e5bf7eee",
   "metadata": {},
   "outputs": [
    {
     "data": {
      "text/plain": [
       "['apple', 'banana', 'banana', 'banana', 'strawberry']"
      ]
     },
     "execution_count": 27,
     "metadata": {},
     "output_type": "execute_result"
    }
   ],
   "source": [
    "empty_list"
   ]
  },
  {
   "cell_type": "code",
   "execution_count": 28,
   "id": "69ff4279-25a2-48a0-9a13-fb2ac5a919e0",
   "metadata": {},
   "outputs": [
    {
     "data": {
      "text/plain": [
       "'banana'"
      ]
     },
     "execution_count": 28,
     "metadata": {},
     "output_type": "execute_result"
    }
   ],
   "source": [
    "empty_list[1]"
   ]
  },
  {
   "cell_type": "code",
   "execution_count": 29,
   "id": "f582484b-dee7-408c-b8e3-4adde3158ffe",
   "metadata": {},
   "outputs": [
    {
     "data": {
      "text/plain": [
       "1"
      ]
     },
     "execution_count": 29,
     "metadata": {},
     "output_type": "execute_result"
    }
   ],
   "source": [
    "empty_list.index('banana')"
   ]
  },
  {
   "cell_type": "code",
   "execution_count": 32,
   "id": "bf47e832-9745-45d1-9408-d33e0568521c",
   "metadata": {},
   "outputs": [
    {
     "data": {
      "text/plain": [
       "['apple', 'banana', 'strawberry']"
      ]
     },
     "execution_count": 32,
     "metadata": {},
     "output_type": "execute_result"
    }
   ],
   "source": [
    "empty_list.remove('banana')\n",
    "empty_list"
   ]
  },
  {
   "cell_type": "code",
   "execution_count": 33,
   "id": "71874ef6-91db-4db9-b18a-9dabfb179334",
   "metadata": {},
   "outputs": [
    {
     "data": {
      "text/plain": [
       "['macbook air', 'banana', 'strawberry']"
      ]
     },
     "execution_count": 33,
     "metadata": {},
     "output_type": "execute_result"
    }
   ],
   "source": [
    "empty_list[0] = \"macbook air\"\n",
    "empty_list"
   ]
  },
  {
   "cell_type": "code",
   "execution_count": 36,
   "id": "b15f3dbc-36b1-4f39-8ee8-283b9f7da329",
   "metadata": {},
   "outputs": [
    {
     "name": "stdout",
     "output_type": "stream",
     "text": [
      " 1 타이거즈\n",
      " 2 라이온즈\n",
      " 3 트윈스\n",
      " 4 베어스\n",
      " 5 위즈\n",
      " 6 랜더스\n",
      " 7 자이언츠\n",
      " 8 이글스\n",
      " 9 다이노스\n",
      "10 히어로즈\n",
      "11 스타즈\n"
     ]
    }
   ],
   "source": [
    "teams = ['타이거즈', '라이온즈', '트윈스', '베어스', '위즈', \n",
    "         '랜더스', '자이언츠', '이글스', '다이노스', '히어로즈','스타즈']\n",
    "\n",
    "for i in range(len(teams)) :\n",
    "    print(f\"{i+1:>2} {teams[i]}\")"
   ]
  },
  {
   "cell_type": "code",
   "execution_count": 41,
   "id": "b2941ce9-238c-45a7-b559-c408a6fc6946",
   "metadata": {},
   "outputs": [
    {
     "ename": "TypeError",
     "evalue": "list indices must be integers or slices, not str",
     "output_type": "error",
     "traceback": [
      "\u001b[1;31m---------------------------------------------------------------------------\u001b[0m",
      "\u001b[1;31mTypeError\u001b[0m                                 Traceback (most recent call last)",
      "Cell \u001b[1;32mIn[41], line 3\u001b[0m\n\u001b[0;32m      1\u001b[0m i \u001b[38;5;241m=\u001b[39m \u001b[38;5;241m1\u001b[39m\n\u001b[0;32m      2\u001b[0m \u001b[38;5;28;01mfor\u001b[39;00m i \u001b[38;5;129;01min\u001b[39;00m teams : \n\u001b[1;32m----> 3\u001b[0m     \u001b[38;5;28mprint\u001b[39m(\u001b[38;5;124mf\u001b[39m\u001b[38;5;124m\"\u001b[39m\u001b[38;5;132;01m{\u001b[39;00mi\u001b[38;5;132;01m:\u001b[39;00m\u001b[38;5;124m>2\u001b[39m\u001b[38;5;132;01m}\u001b[39;00m\u001b[38;5;124m \u001b[39m\u001b[38;5;132;01m{\u001b[39;00m\u001b[43mteams\u001b[49m\u001b[43m[\u001b[49m\u001b[43mi\u001b[49m\u001b[43m]\u001b[49m\u001b[38;5;132;01m}\u001b[39;00m\u001b[38;5;124m\"\u001b[39m)\n\u001b[0;32m      4\u001b[0m     i\u001b[38;5;241m=\u001b[39m\u001b[38;5;241m+\u001b[39m\u001b[38;5;241m1\u001b[39m\n",
      "\u001b[1;31mTypeError\u001b[0m: list indices must be integers or slices, not str"
     ]
    }
   ],
   "source": [
    "i = 1\n",
    "for i in teams : \n",
    "    print(f\"{i:>2} {teams[i]}\")\n",
    "    i=+1"
   ]
  },
  {
   "cell_type": "markdown",
   "id": "1f108c70-ab93-44dc-ae6e-39ba820431da",
   "metadata": {},
   "source": [
    "## ex30"
   ]
  },
  {
   "cell_type": "code",
   "execution_count": 52,
   "id": "6a2186a3-a189-45e4-b724-5a6eb8a98d46",
   "metadata": {},
   "outputs": [],
   "source": [
    "jisoo = [90,85,93]\n",
    "mansoo = [78,92,89]\n",
    "total = []"
   ]
  },
  {
   "cell_type": "code",
   "execution_count": 53,
   "id": "ccd6b481-9c0f-4f67-8ea1-a31800743a2e",
   "metadata": {},
   "outputs": [],
   "source": [
    "for i in range(3):\n",
    "    total.append(jisoo[i]+mansoo[i])"
   ]
  },
  {
   "cell_type": "code",
   "execution_count": 59,
   "id": "7b28a035-dbc2-4aa4-8007-a21b50f93a9e",
   "metadata": {},
   "outputs": [
    {
     "name": "stdout",
     "output_type": "stream",
     "text": [
      "국어| 영어 |수학\n",
      "===============\n"
     ]
    },
    {
     "data": {
      "text/plain": [
       "[168, 177, 182]"
      ]
     },
     "execution_count": 59,
     "metadata": {},
     "output_type": "execute_result"
    }
   ],
   "source": [
    "\n",
    "print(\"국어| 영어 |수학\")\n",
    "print(\"===============\")\n",
    "total"
   ]
  },
  {
   "cell_type": "code",
   "execution_count": 60,
   "id": "cd087c7d-837b-4d1b-bc04-af664a14cd13",
   "metadata": {},
   "outputs": [
    {
     "data": {
      "text/plain": [
       "[1, 3, 5]"
      ]
     },
     "execution_count": 60,
     "metadata": {},
     "output_type": "execute_result"
    }
   ],
   "source": [
    "L = [1,2,3,4,5,6,7,8]\n",
    "L[0:6:2]"
   ]
  },
  {
   "cell_type": "code",
   "execution_count": 61,
   "id": "06194e73-948f-40e5-b7ad-9e0a1ca9814d",
   "metadata": {},
   "outputs": [
    {
     "data": {
      "text/plain": [
       "[6, 7]"
      ]
     },
     "execution_count": 61,
     "metadata": {},
     "output_type": "execute_result"
    }
   ],
   "source": [
    "L[-3:-1]"
   ]
  },
  {
   "cell_type": "code",
   "execution_count": 63,
   "id": "b6a37bd8-69a0-48c9-8259-1cbda2132de4",
   "metadata": {},
   "outputs": [
    {
     "data": {
      "text/plain": [
       "6"
      ]
     },
     "execution_count": 63,
     "metadata": {},
     "output_type": "execute_result"
    }
   ],
   "source": [
    "L[-3] # 뒤에서부터 3개"
   ]
  },
  {
   "cell_type": "code",
   "execution_count": 64,
   "id": "e84b262e-0365-4678-8007-a59b8d8d539d",
   "metadata": {},
   "outputs": [
    {
     "data": {
      "text/plain": [
       "[4, 5, 6, 7, 8]"
      ]
     },
     "execution_count": 64,
     "metadata": {},
     "output_type": "execute_result"
    }
   ],
   "source": [
    "L[3:]"
   ]
  },
  {
   "cell_type": "code",
   "execution_count": 65,
   "id": "1776085a-292a-47a4-a52f-64cd9b53b3bc",
   "metadata": {},
   "outputs": [
    {
     "data": {
      "text/plain": [
       "([1, 2, 3, 4, 5, 6, 7, 8], [1, 2, 3, 4, 5, 6, 7, 8], [1, 2, 3, 4, 5, 6, 7, 8])"
      ]
     },
     "execution_count": 65,
     "metadata": {},
     "output_type": "execute_result"
    }
   ],
   "source": [
    "L[0:8:1],L[::],L[:]"
   ]
  },
  {
   "cell_type": "code",
   "execution_count": 68,
   "id": "6d60b5ec-5be3-43f8-92d4-94c97e7f1486",
   "metadata": {},
   "outputs": [
    {
     "data": {
      "text/plain": [
       "15"
      ]
     },
     "execution_count": 68,
     "metadata": {},
     "output_type": "execute_result"
    }
   ],
   "source": [
    "numbers = [10,4,5,-1,6,12,40]\n",
    "\n",
    "s= 0 \n",
    "\n",
    "for i in range(1,len(numbers),2):\n",
    "    s+=numbers[i]\n",
    "s    \n",
    "    "
   ]
  },
  {
   "cell_type": "markdown",
   "id": "2c0f60d0-784f-4348-9a2d-d2a5881d8e65",
   "metadata": {},
   "source": [
    "## 리스트의 중첩"
   ]
  },
  {
   "cell_type": "code",
   "execution_count": 71,
   "id": "3613e78c-5482-4004-a428-77d7304528a8",
   "metadata": {},
   "outputs": [
    {
     "data": {
      "text/plain": [
       "(4, 3)"
      ]
     },
     "execution_count": 71,
     "metadata": {},
     "output_type": "execute_result"
    }
   ],
   "source": [
    "A = [[1,2,3],[4,5,6],[7,8,9],[10,11,12]]\n",
    "len(A), len(A[0])"
   ]
  },
  {
   "cell_type": "code",
   "execution_count": 72,
   "id": "32feb7f0-c3b1-49bc-ab45-9191ea3099a1",
   "metadata": {},
   "outputs": [
    {
     "data": {
      "text/plain": [
       "2"
      ]
     },
     "execution_count": 72,
     "metadata": {},
     "output_type": "execute_result"
    }
   ],
   "source": [
    "B = A[0]\n",
    "B[1]"
   ]
  },
  {
   "cell_type": "code",
   "execution_count": 73,
   "id": "c5e688e0-4e3d-4fd0-913c-7fe4e83beabe",
   "metadata": {},
   "outputs": [
    {
     "data": {
      "text/plain": [
       "2"
      ]
     },
     "execution_count": 73,
     "metadata": {},
     "output_type": "execute_result"
    }
   ],
   "source": [
    "A[0][1]"
   ]
  },
  {
   "cell_type": "code",
   "execution_count": 110,
   "id": "b928307f-725b-42fa-933a-c359b15f1399",
   "metadata": {},
   "outputs": [
    {
     "name": "stdout",
     "output_type": "stream",
     "text": [
      "[1, 2, 3]\n",
      "[4, 5, 6]\n",
      "[7, 8, 9]\n",
      "[10, 11, 12, 13]\n"
     ]
    }
   ],
   "source": [
    "A = [[1,2,3],[4,5,6],[7,8,9],[10,11,12,13]]\n",
    "for a in A : \n",
    "    print(a)"
   ]
  },
  {
   "cell_type": "code",
   "execution_count": 111,
   "id": "f14cc695-7fb5-4f2a-9e75-28cf60fe1b9a",
   "metadata": {},
   "outputs": [],
   "source": [
    "A = [[1,0,1],[0,2,0],[1,2,1]]\n",
    "B = [[2,3,1],[0,1,1],[1,1,1]]\n",
    "C = [[0,0,0],[0,0,0],[0,0,0]]"
   ]
  },
  {
   "cell_type": "code",
   "execution_count": 112,
   "id": "6898963a-a094-411d-9273-73fd8e2a6e65",
   "metadata": {},
   "outputs": [
    {
     "data": {
      "text/plain": [
       "[[3, 3, 2], [0, 3, 1], [2, 3, 2]]"
      ]
     },
     "execution_count": 112,
     "metadata": {},
     "output_type": "execute_result"
    }
   ],
   "source": [
    "for i in range(3):\n",
    "    row = []\n",
    "    for j in range(len(B[0])):\n",
    "        C[i][j]=A[i][j]+B[i][j]\n",
    "C"
   ]
  },
  {
   "cell_type": "code",
   "execution_count": 114,
   "id": "9c71287d-e184-4ad3-837d-ffdeaf94ed82",
   "metadata": {},
   "outputs": [],
   "source": [
    "A = [[1,0,1,2],\n",
    "     [0,2,0,3],\n",
    "     [1,2,1,7]] # 3 * 4\n",
    "B = [[2,3,1],\n",
    "     [0,1,1],\n",
    "     [1,1,1],\n",
    "     [3,2,6]] # 4 * 3"
   ]
  },
  {
   "cell_type": "code",
   "execution_count": 116,
   "id": "e13941b3-ecfc-4385-8135-1c11cd399064",
   "metadata": {},
   "outputs": [
    {
     "data": {
      "text/plain": [
       "[[0, 0, 0], [0, 0, 0], [0, 0, 0]]"
      ]
     },
     "execution_count": 116,
     "metadata": {},
     "output_type": "execute_result"
    }
   ],
   "source": [
    "C = []\n",
    "for i in range(len(A)):\n",
    "    row = []\n",
    "    for j in range(len(B[0])):\n",
    "        row.append(0)\n",
    "    C.append(row)\n",
    "C    \n",
    "for i in range(len(A)):\n",
    "    for j in rnage(len(B[0])):\n",
    "        "
   ]
  },
  {
   "cell_type": "code",
   "execution_count": null,
   "id": "b0428c37-3159-4d31-a113-042b2cdc54cb",
   "metadata": {},
   "outputs": [],
   "source": []
  }
 ],
 "metadata": {
  "kernelspec": {
   "display_name": "Python 3 (ipykernel)",
   "language": "python",
   "name": "python3"
  },
  "language_info": {
   "codemirror_mode": {
    "name": "ipython",
    "version": 3
   },
   "file_extension": ".py",
   "mimetype": "text/x-python",
   "name": "python",
   "nbconvert_exporter": "python",
   "pygments_lexer": "ipython3",
   "version": "3.12.2"
  }
 },
 "nbformat": 4,
 "nbformat_minor": 5
}
