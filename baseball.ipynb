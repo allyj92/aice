{
 "cells": [
  {
   "cell_type": "code",
   "execution_count": null,
   "metadata": {
    "id": "JKWcdNtDCbzt"
   },
   "outputs": [],
   "source": [
    "import random\n",
    "\n",
    "class Digit3:\n",
    "    def __init__(self):\n",
    "        self.player_list = {}\n",
    "        self.cur_player = None\n",
    "\n",
    "    def init_game(self):\n",
    "        ############################################################\n",
    "        # 3자리 숫자 초기화\n",
    "        # 각자리가 중복되면 안되고\n",
    "        # 첫자리가 0이 되면 안되고\n",
    "        # hint: 문자로 한 자리씩 숫자를 생성해서 0인지 검사하고\n",
    "        #       앞 숫자와 겹치는지 검사\n",
    "        one = str( random.randrange(1, 10) )\n",
    "\n",
    "        two = None\n",
    "        three = None\n",
    "        ############################################################\n",
    "        #\n",
    "        self.d = one+two+three\n",
    "\n",
    "        # 개발 과정에서 내부적으로 초기화한 숫자를 화면에 뿌림\n",
    "        print('init_game:', self.d)\n",
    "\n",
    "\n",
    "    def q(self, digit):\n",
    "        # digit: 사용자로부터 입력된 세자리수\n",
    "        # digit이 self.d와 일치하는지 검사해서\n",
    "        # 볼카운트를 다음과 같은 사전으로 만들어 반환\n",
    "        # {'ball': 2, 'strike': 1}\n",
    "\n",
    "        strike  = 0\n",
    "        ball = 0\n",
    "\n",
    "        ############################################################\n",
    "        # self.d와 digit을 비교하여 볼카운트를 생성\n",
    "        # hint: 숫자를 문자로 다루기...\"123\"\n",
    "        #       str.count()함수 사용\n",
    "        digit_s = str(digit)\n",
    "\n",
    "\n",
    "\n",
    "        ############################################################\n",
    "\n",
    "        # 볼카운트가 저장된 변수를 리턴\n",
    "        return {'ball': ball, 'strike': strike}\n",
    "\n",
    "    def rank(self):\n",
    "        # dict 정렬\n",
    "        for name, score in sorted(self.player_list.items(), key=lambda item: item[1]):\n",
    "            print(name, score)\n",
    "\n",
    "    def set_player(self):\n",
    "        self.cur_player= input(\"플레이어 아이디를 입력하세요: \" )\n",
    "\n",
    "        if not self.player_list.get(self.cur_player, None):\n",
    "            print('신규플레이어초기화')\n",
    "            self.player_list[self.cur_player] = 0\n",
    "\n",
    "    def start_game(self):\n",
    "        self.init_game()\n",
    "\n",
    "        self.set_player()\n",
    "\n",
    "        count = 0\n",
    "\n",
    "        while True:\n",
    "            # 사용자에게 입력받기\n",
    "            user_input = input(\"세 자리 수를 입력: \")\n",
    "\n",
    "            # 사용자 입력 유효성 검사\n",
    "            if len(user_input) == 3 and user_input.isdigit():\n",
    "                count += 1\n",
    "\n",
    "                result = self.q(user_input)\n",
    "\n",
    "                # 정답이면\n",
    "                if result['strike'] == 3:\n",
    "                    print('정답')\n",
    "                    if (\n",
    "                        # 현재 플레이어의 점수가 0점이거나(신규플레이어란 의미)\n",
    "                        self.player_list[self.cur_player] == 0 or\n",
    "                        # 현재 플레이어의 점수가 있는데 이번 판의 점수가 더 좋으면\n",
    "                        (self.player_list[self.cur_player] > 0 and count < self.player_list[self.cur_player])\n",
    "                    ):\n",
    "                        # 플레이어 리스트 점수에 새로운 점수를 삽입\n",
    "                        self.player_list[self.cur_player] = count\n",
    "                    break\n",
    "                else:\n",
    "                    print(f\"{result['ball']} 볼, {result['strike']} 스트라이크\")\n",
    "            else:\n",
    "                print(\"잘못된 입력입니다. 다시 입력하세요.\")\n"
   ]
  },
  {
   "cell_type": "code",
   "execution_count": null,
   "metadata": {
    "colab": {
     "base_uri": "https://localhost:8080/"
    },
    "executionInfo": {
     "elapsed": 15482,
     "status": "ok",
     "timestamp": 1731124203904,
     "user": {
      "displayName": "조준우",
      "userId": "07581913480846489655"
     },
     "user_tz": -540
    },
    "id": "e-HEl5NaCeqU",
    "outputId": "53d11aae-52b5-4497-c68b-2ef7760cec7a"
   },
   "outputs": [
    {
     "name": "stdout",
     "output_type": "stream",
     "text": [
      "init_game: 648\n",
      "플레이어 아이디를 입력하세요: 345\n",
      "신규플레이어초기화\n",
      "세 자리 수를 입력: 321\n",
      "0 볼, 0 스트라이크\n",
      "세 자리 수를 입력: 648\n",
      "정답\n"
     ]
    }
   ],
   "source": [
    "# 게임 객체를 생성\n",
    "digit3 = Digit3()\n",
    "\n",
    "# 게임을 하고 나서\n",
    "digit3.start_game()"
   ]
  },
  {
   "cell_type": "code",
   "execution_count": null,
   "metadata": {
    "colab": {
     "base_uri": "https://localhost:8080/"
    },
    "executionInfo": {
     "elapsed": 296,
     "status": "ok",
     "timestamp": 1731124206191,
     "user": {
      "displayName": "조준우",
      "userId": "07581913480846489655"
     },
     "user_tz": -540
    },
    "id": "7DHkdXp0Csvh",
    "outputId": "a92c8665-c828-4453-ec29-90602e0032bc"
   },
   "outputs": [
    {
     "name": "stdout",
     "output_type": "stream",
     "text": [
      "345 2\n"
     ]
    }
   ],
   "source": [
    "# 플레이어의 성적을 화면에 뿌림\n",
    "digit3.rank()"
   ]
  },
  {
   "cell_type": "code",
   "execution_count": null,
   "metadata": {
    "colab": {
     "base_uri": "https://localhost:8080/"
    },
    "executionInfo": {
     "elapsed": 9972,
     "status": "ok",
     "timestamp": 1731124223499,
     "user": {
      "displayName": "조준우",
      "userId": "07581913480846489655"
     },
     "user_tz": -540
    },
    "id": "gkTTByPvCxdt",
    "outputId": "47e30caf-a46d-40d0-e4d9-edd866ca64dc"
   },
   "outputs": [
    {
     "name": "stdout",
     "output_type": "stream",
     "text": [
      "init_game: 976\n",
      "플레이어 아이디를 입력하세요: s705d\n",
      "신규플레이어초기화\n",
      "세 자리 수를 입력: 123\n",
      "0 볼, 0 스트라이크\n",
      "세 자리 수를 입력: 876\n",
      "0 볼, 2 스트라이크\n",
      "세 자리 수를 입력: 976\n",
      "정답\n"
     ]
    }
   ],
   "source": [
    "digit3.start_game()"
   ]
  },
  {
   "cell_type": "code",
   "execution_count": null,
   "metadata": {
    "colab": {
     "base_uri": "https://localhost:8080/"
    },
    "executionInfo": {
     "elapsed": 309,
     "status": "ok",
     "timestamp": 1731124228998,
     "user": {
      "displayName": "조준우",
      "userId": "07581913480846489655"
     },
     "user_tz": -540
    },
    "id": "LFMlri5aCzVC",
    "outputId": "d8cd86c5-a830-49aa-ceab-3a260ba49f2a"
   },
   "outputs": [
    {
     "name": "stdout",
     "output_type": "stream",
     "text": [
      "345 2\n",
      "s705d 3\n"
     ]
    }
   ],
   "source": [
    "digit3.rank()"
   ]
  },
  {
   "cell_type": "code",
   "execution_count": null,
   "metadata": {
    "colab": {
     "base_uri": "https://localhost:8080/"
    },
    "executionInfo": {
     "elapsed": 51088,
     "status": "ok",
     "timestamp": 1731124411675,
     "user": {
      "displayName": "조준우",
      "userId": "07581913480846489655"
     },
     "user_tz": -540
    },
    "id": "2iRXnT9VC3CJ",
    "outputId": "74d456ca-dcfe-4af6-eb40-4aae11187dc0"
   },
   "outputs": [
    {
     "name": "stdout",
     "output_type": "stream",
     "text": [
      "[메뉴를 입력하세요.]\n",
      "1.게임시작  2.랭킹보기  3.게임종료 >>> 1\n",
      "init_game: 941\n",
      "플레이어 아이디를 입력하세요: s705d\n",
      "신규플레이어초기화\n",
      "세 자리 수를 입력: 123\n",
      "1 볼, 0 스트라이크\n",
      "세 자리 수를 입력: 888\n",
      "0 볼, 0 스트라이크\n",
      "세 자리 수를 입력: 941\n",
      "정답\n",
      "[메뉴를 입력하세요.]\n",
      "1.게임시작  2.랭킹보기  3.게임종료 >>> 1\n",
      "init_game: 513\n",
      "플레이어 아이디를 입력하세요: ddd\n",
      "신규플레이어초기화\n",
      "세 자리 수를 입력: 123\n",
      "1 볼, 1 스트라이크\n",
      "세 자리 수를 입력: 513\n",
      "정답\n",
      "[메뉴를 입력하세요.]\n",
      "1.게임시작  2.랭킹보기  3.게임종료 >>> 2\n",
      "ddd 2\n",
      "s705d 3\n",
      "[메뉴를 입력하세요.]\n",
      "1.게임시작  2.랭킹보기  3.게임종료 >>> 1\n",
      "init_game: 659\n",
      "플레이어 아이디를 입력하세요: kkk\n",
      "신규플레이어초기화\n",
      "세 자리 수를 입력: 659\n",
      "정답\n",
      "[메뉴를 입력하세요.]\n",
      "1.게임시작  2.랭킹보기  3.게임종료 >>> 2\n",
      "kkk 1\n",
      "ddd 2\n",
      "s705d 3\n",
      "[메뉴를 입력하세요.]\n",
      "1.게임시작  2.랭킹보기  3.게임종료 >>> 3\n",
      "게임을 종료합니다.\n"
     ]
    }
   ],
   "source": [
    "digit3 = Digit3()\n",
    "\n",
    "while True:\n",
    "    print(\"[메뉴를 입력하세요.]\")\n",
    "    c = input(\"1.게임시작  2.랭킹보기  3.게임종료 >>> \")\n",
    "\n",
    "    # c가 1, 2,3?\n",
    "    if c == \"3\":\n",
    "        print(\"게임을 종료합니다.\")\n",
    "        break\n",
    "    elif c == \"2\":\n",
    "        print(\"랭킹 보기\")\n",
    "    elif c == \"1\":\n",
    "        print(\"게임을 시작합니다.\")\n",
    "    else:\n",
    "        print(\"다시 입력해주세요.\")"
   ]
  },
  {
   "cell_type": "code",
   "execution_count": null,
   "metadata": {
    "id": "idkhcLcdDXPG"
   },
   "outputs": [],
   "source": []
  }
 ],
 "metadata": {
  "colab": {
   "authorship_tag": "ABX9TyNf+4he25jRTzQDEW7rphIl",
   "provenance": []
  },
  "kernelspec": {
   "display_name": "Python 3 (ipykernel)",
   "language": "python",
   "name": "python3"
  },
  "language_info": {
   "codemirror_mode": {
    "name": "ipython",
    "version": 3
   },
   "file_extension": ".py",
   "mimetype": "text/x-python",
   "name": "python",
   "nbconvert_exporter": "python",
   "pygments_lexer": "ipython3",
   "version": "3.12.2"
  }
 },
 "nbformat": 4,
 "nbformat_minor": 4
}
